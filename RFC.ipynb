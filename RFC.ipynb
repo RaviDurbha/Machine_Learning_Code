{
 "cells": [
  {
   "cell_type": "code",
   "execution_count": 1,
   "metadata": {},
   "outputs": [],
   "source": [
    "# Import libraries\n",
    "import numpy as np\n",
    "import pandas as pd\n",
    "from sklearn.model_selection import train_test_split\n",
    "from sklearn.preprocessing import StandardScaler\n",
    "from sklearn.ensemble import RandomForestClassifier\n",
    "from sklearn.metrics import confusion_matrix, mean_squared_error #, classification_report,accuracy_score, precision_score"
   ]
  },
  {
   "cell_type": "code",
   "execution_count": 2,
   "metadata": {},
   "outputs": [],
   "source": [
    "# Import dataset from local machine\n",
    "dataset=pd.read_csv('D:\\Data\\Bill_Authentication.csv')\n",
    "#dataset.head()"
   ]
  },
  {
   "cell_type": "code",
   "execution_count": 3,
   "metadata": {},
   "outputs": [],
   "source": [
    "X = dataset.iloc[:, 0:4].values\n",
    "Y = dataset.iloc[:, 4].values\n",
    "#print(X,Y)"
   ]
  },
  {
   "cell_type": "code",
   "execution_count": 4,
   "metadata": {},
   "outputs": [
    {
     "data": {
      "text/plain": [
       "(1372, 5)"
      ]
     },
     "execution_count": 4,
     "metadata": {},
     "output_type": "execute_result"
    }
   ],
   "source": [
    "dataset.shape"
   ]
  },
  {
   "cell_type": "code",
   "execution_count": 5,
   "metadata": {},
   "outputs": [],
   "source": [
    "# Train and Test Split\n",
    "X_train, X_test, Y_train, Y_test = train_test_split(X, Y, test_size=0.2, random_state=0)"
   ]
  },
  {
   "cell_type": "code",
   "execution_count": 6,
   "metadata": {},
   "outputs": [],
   "source": [
    "# Feature Scaling\n",
    "sc = StandardScaler()\n",
    "X_train = sc.fit_transform(X_train)\n",
    "X_test = sc.transform(X_test)"
   ]
  },
  {
   "cell_type": "code",
   "execution_count": 7,
   "metadata": {},
   "outputs": [],
   "source": [
    "# Import Classifier model\n",
    "classifier = RandomForestClassifier(n_estimators=20, random_state=0)\n",
    "classifier.fit(X_train, Y_train)\n",
    "Y_pred = classifier.predict(X_test)"
   ]
  },
  {
   "cell_type": "code",
   "execution_count": 8,
   "metadata": {},
   "outputs": [],
   "source": [
    "#print(X_train, Y_train)\n",
    "#print(X_test, Y_test)"
   ]
  },
  {
   "cell_type": "code",
   "execution_count": 9,
   "metadata": {},
   "outputs": [],
   "source": [
    "# Printing metrics\n",
    "#print(confusion_matrix(Y_test,Y_pred))\n",
    "#print(classification_report(Y_test,Y_pred))\n",
    "#print(accuracy_score(Y_test, Y_pred))\n",
    "#print(precision_score(Y_test, Y_pred))"
   ]
  },
  {
   "cell_type": "code",
   "execution_count": 10,
   "metadata": {},
   "outputs": [
    {
     "name": "stdout",
     "output_type": "stream",
     "text": [
      "155 2 1 117\n"
     ]
    }
   ],
   "source": [
    "# Metrics of Confusion Matrix\n",
    "tp, fp, fn, tn = confusion_matrix(Y_test, Y_pred).ravel()\n",
    "print(tp, fp, fn, tn)"
   ]
  },
  {
   "cell_type": "code",
   "execution_count": 11,
   "metadata": {},
   "outputs": [],
   "source": [
    "accuracy_score = 100*(tp+tn)/(tp+tn+fp+fn)\n",
    "precision_score = 100*tp/(tp+fp)\n",
    "sensitivity_score = 100*tp/(tp+fn)\n",
    "specificity_score = 100*tn/(tn+fp)\n",
    "F1_score = 100*(2*tp)/((2*tp)+fp+fn)"
   ]
  },
  {
   "cell_type": "code",
   "execution_count": 12,
   "metadata": {},
   "outputs": [
    {
     "name": "stdout",
     "output_type": "stream",
     "text": [
      "98.9090909090909 98.72611464968153 99.35897435897436 98.31932773109244 99.04153354632588\n"
     ]
    }
   ],
   "source": [
    "print(accuracy_score, precision_score, sensitivity_score, specificity_score, F1_score)"
   ]
  },
  {
   "cell_type": "code",
   "execution_count": 13,
   "metadata": {},
   "outputs": [
    {
     "name": "stdout",
     "output_type": "stream",
     "text": [
      "The Mean Square Error is: 0.01090909090909091\n",
      "The Root Mean Square Error is: 0.1044465935734187\n"
     ]
    }
   ],
   "source": [
    "summation = 0  #variable to store the summation of differences\n",
    "n = len(Y_test) #finding total number of items in list\n",
    "for i in range (0,n):  #looping through each element of the list\n",
    " diff = Y_pred[i] - Y_test[i]  #finding the difference between observed and predicted value\n",
    " squared_diff = diff**2  #taking square of the differene \n",
    " summation = summation + squared_diff  #taking a sum of all the differences\n",
    "MSE = summation/n  #dividing summation by total values\n",
    "RMS = np.sqrt(MSE)\n",
    "\n",
    "print('The Mean Square Error is:' , MSE)\n",
    "print('The Root Mean Square Error is:', RMS)"
   ]
  },
  {
   "cell_type": "code",
   "execution_count": 14,
   "metadata": {},
   "outputs": [
    {
     "name": "stdout",
     "output_type": "stream",
     "text": [
      "MSE = 0.01090909090909091\n",
      "RMSE = 0.1044465935734187\n"
     ]
    }
   ],
   "source": [
    "MSE = mean_squared_error(Y_test,Y_pred)\n",
    "RMSE = np.sqrt(mean_squared_error(Y_test, Y_pred))\n",
    "\n",
    "print('MSE =',MSE)\n",
    "print('RMSE =',RMSE)"
   ]
  },
  {
   "cell_type": "code",
   "execution_count": null,
   "metadata": {},
   "outputs": [],
   "source": []
  }
 ],
 "metadata": {
  "kernelspec": {
   "display_name": "Python 3",
   "language": "python",
   "name": "python3"
  },
  "language_info": {
   "codemirror_mode": {
    "name": "ipython",
    "version": 3
   },
   "file_extension": ".py",
   "mimetype": "text/x-python",
   "name": "python",
   "nbconvert_exporter": "python",
   "pygments_lexer": "ipython3",
   "version": "3.8.6"
  }
 },
 "nbformat": 4,
 "nbformat_minor": 4
}
